{
 "cells": [
  {
   "cell_type": "code",
   "execution_count": null,
   "id": "700a6ed2",
   "metadata": {},
   "outputs": [],
   "source": [
    "import requests"
   ]
  },
  {
   "cell_type": "code",
   "execution_count": null,
   "id": "165b69c2",
   "metadata": {},
   "outputs": [],
   "source": [
    "def get_auction_data(auctionID):\n",
    "    # Tries to GET auction data for endpoint \"url\"\n",
    "    url = \"http://compras.dados.gov.br/pregoes/doc/pregao/\" + auctionID + \".json\"\n",
    "    try:\n",
    "        response_auction_summary = requests.get(url)\n",
    "    except (requests.exceptions.ConnectionError, json.decoder.JSONDecodeError):\n",
    "        print(\"The request took too long!\") # Notifies user if it fails\n",
    "    # Transforms HTTP response to JSON\n",
    "    auction_summary_json = response_auction_summary.json()  \n",
    "    return auction_summary_json "
   ]
  }
 ],
 "metadata": {
  "kernelspec": {
   "display_name": "Python 3 (ipykernel)",
   "language": "python",
   "name": "python3"
  },
  "language_info": {
   "codemirror_mode": {
    "name": "ipython",
    "version": 3
   },
   "file_extension": ".py",
   "mimetype": "text/x-python",
   "name": "python",
   "nbconvert_exporter": "python",
   "pygments_lexer": "ipython3",
   "version": "3.9.15"
  }
 },
 "nbformat": 4,
 "nbformat_minor": 5
}
