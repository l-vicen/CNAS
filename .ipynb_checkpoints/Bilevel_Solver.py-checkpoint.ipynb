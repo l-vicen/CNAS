{
 "cells": [
  {
   "cell_type": "code",
   "execution_count": null,
   "id": "6ca811c1",
   "metadata": {},
   "outputs": [],
   "source": [
    "from pyomo.environ import *\n",
    "from pao.pyomo import *"
   ]
  },
  {
   "cell_type": "code",
   "execution_count": null,
   "id": "c3cf9159",
   "metadata": {},
   "outputs": [],
   "source": [
    "# Subscripts\n",
    "AUCTIONED_ITEMS_SET = ['Item_1', 'Item_2', 'Item_3']\n",
    "AUCTION_PARTICIPATING_SUPPLIERS = ['Supplier_1', 'Supplier_2']\n",
    "\n",
    "# Supplier Parameters\n",
    "SUPPLIER_SUPPLY_CAPACITY = {\n",
    "        ('Supplier_1', 'Item_1'): 15, ('Supplier_2', 'Item_1'): 15,\n",
    "        ('Supplier_1', 'Item_2'): 25, ('Supplier_2', 'Item_2'): 15,\n",
    "        ('Supplier_1', 'Item_3'): 40, ('Supplier_2', 'Item_3'): 50}\n",
    "\n",
    "SUPPLIER_PRODUCTION_COST = {\n",
    "    ('Supplier_1', 'Item_1'): 9.75, ('Supplier_2', 'Item_1'): 7.5,\n",
    "    ('Supplier_1', 'Item_2'): 12.5, ('Supplier_2', 'Item_2'): 15,\n",
    "    ('Supplier_1', 'Item_3'): 37.5, ('Supplier_2', 'Item_3'): 50}\n",
    "\n",
    "# Auctioneer Parameters\n",
    "AUCTIONEER_DEMAND = {'Item_1': 15, 'Item_2': 25, 'Item_3': 50}\n",
    "AUCTIONEER_PERCEIVED_UTILITY = {'Item_1': 20, 'Item_2': 30, 'Item_3': 50}\n",
    "AUCTIONEER_ESTIMATED_COST = {'Item_1': 10, 'Item_2': 20, 'Item_3': 50}"
   ]
  },
  {
   "cell_type": "code",
   "execution_count": null,
   "id": "e5713bea",
   "metadata": {},
   "outputs": [],
   "source": [
    "# Upper-level definition: Auction Problem\n",
    "model = ConcreteModel(\"Upper-level: Auction Problem\")"
   ]
  },
  {
   "cell_type": "code",
   "execution_count": null,
   "id": "b1f67434",
   "metadata": {},
   "outputs": [],
   "source": [
    "model.i = Set(initialize = AUCTIONED_ITEMS_SET) # Set items\n",
    "model.j = Set(initialize = AUCTION_PARTICIPATING_SUPPLIERS) # Set suppliers"
   ]
  },
  {
   "cell_type": "code",
   "execution_count": null,
   "id": "8313121f",
   "metadata": {},
   "outputs": [],
   "source": [
    "# Decision variable upper-level\n",
    "model.X = Var(model.j, model.i, domain=Binary)"
   ]
  },
  {
   "cell_type": "code",
   "execution_count": null,
   "id": "73c1561a",
   "metadata": {},
   "outputs": [],
   "source": [
    "# Lower-level definition: Pricing Problem \n",
    "model.L = SubModel(fixed=model.X)"
   ]
  },
  {
   "cell_type": "code",
   "execution_count": null,
   "id": "1760d92b",
   "metadata": {},
   "outputs": [],
   "source": [
    "# Decision variable lower-level\n",
    "model.L.P = Var(model.j, model.i, domain=Reals)"
   ]
  },
  {
   "cell_type": "code",
   "execution_count": null,
   "id": "2c05a404",
   "metadata": {},
   "outputs": [],
   "source": [
    "# Upper-level Parameters\n",
    "model.Demand = Param(model.i, initialize = AUCTIONEER_DEMAND)\n",
    "model.Utility = Param(model.i, initialize = AUCTIONEER_PERCEIVED_UTILITY)\n",
    "model.Supply_capacity = Param(model.j, model.i, initialize = SUPPLIER_SUPPLY_CAPACITY)"
   ]
  },
  {
   "cell_type": "code",
   "execution_count": null,
   "id": "6b29bba5",
   "metadata": {},
   "outputs": [],
   "source": [
    "# Lower-level Parameters\n",
    "model.L.Budget = Param(model.i, initialize = AUCTIONEER_ESTIMATED_COST)\n",
    "model.L.Production_costs = Param(model.j, model.i, initialize = SUPPLIER_PRODUCTION_COST)"
   ]
  },
  {
   "cell_type": "code",
   "execution_count": null,
   "id": "3b23b22e",
   "metadata": {},
   "outputs": [],
   "source": [
    "# Objective functions definitions\n",
    "def auction_objective_function(model):\n",
    "    return sum((model.Utility[i] * model.X[j,i]) - model.L.P[j,i] for j,i in model.j*model.i)\n",
    "\n",
    "def pricing_objective_function(submodel, model):\n",
    "    return sum(submodel.P[j,i] for j,i in model.j * model.i)\n",
    "\n",
    "# Objective assignment\n",
    "model.o = Objective(rule=auction_objective_function(model), sense=maximize)\n",
    "model.L.o = Objective(rule= pricing_objective_function(model.L, model), sense=maximize)"
   ]
  },
  {
   "cell_type": "code",
   "execution_count": null,
   "id": "29c96847",
   "metadata": {},
   "outputs": [],
   "source": [
    "# Constraints definitions\n",
    "def single_sourcing_constraint(model, i):\n",
    "    return sum(model.X[j,i] for j in model.j) == 1\n",
    "\n",
    "def demand_requirement_constraint(model, i):\n",
    "    return sum(model.Supply_capacity[j,i] * model.X[j,i] for j in model.j) >= model.Demand[i]\n",
    "\n",
    "def lower_and_upper_bound_pricing_constraint(submodel, j, i):\n",
    "    return (submodel.Production_costs[j,i], submodel.P[j,i], submodel.Budget[i])\n",
    "\n",
    "# Constraint assignment\n",
    "model.SingleSourcingConstraint = Constraint(model.i, rule=single_sourcing_constraint)\n",
    "model.DemandConstraint = Constraint(model.i, rule=demand_requirement_constraint)\n",
    "model.L.DemandConstraint = Constraint(model.j, model.i, rule=lower_and_upper_bound_pricing_constraint)"
   ]
  },
  {
   "cell_type": "code",
   "execution_count": null,
   "id": "126cf8d2",
   "metadata": {},
   "outputs": [],
   "source": [
    "solver = Solver('pao.pyomo.FA') # Specifying solver (or'pao.pyomo.MIBS')\n",
    "solver.solve(model) # solving model\n",
    "model.pprint() # visualizing model with solutions"
   ]
  }
 ],
 "metadata": {
  "kernelspec": {
   "display_name": "Python 3 (ipykernel)",
   "language": "python",
   "name": "python3"
  },
  "language_info": {
   "codemirror_mode": {
    "name": "ipython",
    "version": 3
   },
   "file_extension": ".py",
   "mimetype": "text/x-python",
   "name": "python",
   "nbconvert_exporter": "python",
   "pygments_lexer": "ipython3",
   "version": "3.9.15"
  }
 },
 "nbformat": 4,
 "nbformat_minor": 5
}
